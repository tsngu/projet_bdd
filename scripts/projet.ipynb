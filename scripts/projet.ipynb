{
 "cells": [
  {
   "cell_type": "markdown",
   "id": "6c35edb7-a999-4a77-8ea2-9c6f84a30864",
   "metadata": {},
   "source": [
    "# Projet BDD (Clément BUON, Tifanny NGUYEN)"
   ]
  },
  {
   "cell_type": "markdown",
   "id": "6a8bb3fd-5e1b-4ac4-ae9e-a5c6178caf65",
   "metadata": {},
   "source": [
    "## Exercice 1 — Création de la BDD"
   ]
  },
  {
   "cell_type": "code",
   "execution_count": 11,
   "id": "2665ae4b-0c23-407f-ae0b-b87f0adbd19d",
   "metadata": {},
   "outputs": [],
   "source": [
    "import sqlite3 as sql\n",
    "import csv"
   ]
  },
  {
   "cell_type": "code",
   "execution_count": 10,
   "id": "04eeb172-2172-46da-a6b9-44e793614e95",
   "metadata": {},
   "outputs": [],
   "source": [
    "#!/usr/bin/env python\n",
    "# -*- coding:utf-8 -*\n",
    "\n",
    "########## EXERCICE 1 ##########\n",
    "## Création de la base de données\n",
    "\n",
    "import sqlite3 as sql\n",
    "import csv\n",
    "\n",
    "BDD = sql.connect(\"BARS.db\")\n",
    "curseur = BDD.cursor()\n",
    "\n",
    "# EMPLOYÉS\n",
    "curseur.execute(\"CREATE TABLE Employes (matricule TEXT PRIMARY KEY, nomEmploye TEXT NOT NULL, prenomEmploye TEXT NOT NULL, profession TEXT NOT NULL, bar TEXT NOT NULL);\")\n",
    "\n",
    "# ÉTABLISSEMENTS\n",
    "# ajout d'une clé primaire avec la propriété autoincrement\n",
    "curseur.execute(\"CREATE TABLE Etablissements (idEtablissement INTEGER PRIMARY KEY AUTOINCREMENT, nomEtablissement TEXT NOT NULL, adresse TEXT NOT NULL, numTelephone TEXT NOT NULL, idManager TEXT NOT NULL, FOREIGN KEY (idManager) REFERENCES Employes(matricule));\")\n",
    "\n",
    "# CARTE\n",
    "curseur.execute(\"CREATE TABLE Carte (idBoisson INTEGER PRIMARY KEY, nomBoisson TEXT NOT NULL, type TEXT NOT NULL, prix REAL NOT NULL, degre REAL, quantite REAL NOT NULL);\")\n",
    "\n",
    "# VENTES\n",
    "# ajout d'une clé primaire avec la propriété autoincrement\n",
    "curseur.execute(\"CREATE TABLE Ventes (idVente INTEGER PRIMARY KEY AUTOINCREMENT, idEmploye TEXT NOT NULL, idBoisson INTEGER NOT NULL, date TEXT NOT NULL, FOREIGN KEY (idEmploye) REFERENCES Employes(matricule), FOREIGN KEY (idBoisson) REFERENCES Carte(idBoisson));\")\n",
    "\n",
    "# Remplissage avec les données CSV\n",
    "# On écrit les informations dans une liste de dictionnaires\n",
    "# chaque dictionnaire : 'attribut' : valeur de l'attribut\n",
    "PATH = \"data/\"\n",
    "with open(PATH+\"employes.csv\", \"rt\") as fichierEmployes:\n",
    "    CSVEmploye = csv.DictReader(fichierEmployes, delimiter=\"\\t\")\n",
    "    for ligne in CSVEmploye:\n",
    "        curseur.execute(\"INSERT INTO Employes (matricule, nomEmploye, prenomEmploye, profession, bar) VALUES (:Matricule, :Nom, :Prenom, :Profession, :Nom_Bar)\", ligne)\n",
    "\n",
    "with open(PATH+\"etablissements.csv\", \"rt\") as fichierEtablissement:\n",
    "    CSVEtablissement = csv.DictReader(fichierEtablissement, delimiter=\"\\t\")\n",
    "    for ligne in CSVEtablissement:\n",
    "        curseur.execute(\"INSERT INTO Etablissements (nomEtablissement, adresse, numTelephone, idManager) VALUES (:Name, :Adresse, :NumTel, :Manager_Id)\", ligne)\n",
    "\n",
    "with open(PATH+\"carte.csv\", \"rt\") as fichierCarte:\n",
    "    CSVCarte = csv.DictReader(fichierCarte, delimiter=\"\\t\")\n",
    "    for ligne in CSVCarte:\n",
    "        curseur.execute(\"INSERT INTO Carte (idBoisson, nomBoisson, type, prix, degre, quantite) VALUES (:Id_Boisson, :Nom, :Type, :Prix, :Degre, :Quantite)\", ligne)\n",
    "        \n",
    "with open(PATH+\"ventes.csv\", \"rt\") as fichierVente:\n",
    "    CSVVente = csv.DictReader(fichierVente, delimiter=\"\\t\")\n",
    "    for ligne in CSVVente:\n",
    "        curseur.execute(\"INSERT INTO Ventes (idEmploye, idBoisson, date) VALUES (:Employe_Id, :Boisson_Id, :Date)\", ligne)\n",
    "\n",
    "BDD.commit()\n",
    "BDD.close()"
   ]
  },
  {
   "cell_type": "markdown",
   "id": "c753a90f-586c-4c88-a055-cc58c45f1b82",
   "metadata": {},
   "source": [
    "## Affichage de la BDD :"
   ]
  },
  {
   "cell_type": "code",
   "execution_count": 13,
   "id": "1a96ed38-8b91-4bcb-a1fb-8f2c93988525",
   "metadata": {},
   "outputs": [
    {
     "name": "stdout",
     "output_type": "stream",
     "text": [
      "Le Saphir : id 1, adresse : Boulevard de Poyat, tel : 0820510551, idManager : T80612\n",
      "L'Envers Bodega : id 2, adresse : Impasse des Hauts de la Verchère, tel : 0058166035, idManager : R25976\n",
      "By Coss Bar : id 3, adresse : Rue Winston Churchill, tel : 0153213335, idManager : R81326\n",
      "Nu-Bahia : id 4, adresse : Route de Bévy, tel : 0696419033, idManager : Q66872\n",
      "Antirouille : id 5, adresse : Chemin de la Chavanne, tel : 0051347411, idManager : Q09012\n",
      "Comptoir de l'Arc : id 6, adresse : La Buissonnière, tel : 0557856998, idManager : O42298\n",
      "Comptoir Saint-Paul : id 7, adresse : Chemin du Bois de Lys, tel : 0153779529, idManager : A08113\n",
      "La Barbote : id 8, adresse : Rue du 7 Septembre 1639, tel : 0005872187, idManager : Q42796\n",
      "Chez Félix : id 9, adresse : Route de Rochefort, tel : 0337450880, idManager : R66525\n",
      "Le Sens Six : id 10, adresse : Route En Chemi-Nant, tel : 0475860670, idManager : W04397\n"
     ]
    }
   ],
   "source": [
    "BDD = sql.connect(\"BARS.db\")\n",
    "curseur = BDD.cursor()\n",
    "\n",
    "curseur.execute(\"SELECT * FROM Etablissements\")\n",
    "result = curseur.fetchall()\n",
    "for idNum, name, adress, phone, managerId in result:\n",
    "    print(f\"{name} : id {idNum}, adresse : {adress}, tel : {phone}, idManager : {managerId}\")\n",
    "#print(result)\n",
    "\n",
    "BDD.close()"
   ]
  },
  {
   "cell_type": "markdown",
   "id": "e390b6e2-42e2-4c9a-abfd-e6a1f91ac00f",
   "metadata": {},
   "source": [
    "## Exercice 3 — Ventes de chaque employé"
   ]
  },
  {
   "cell_type": "code",
   "execution_count": 72,
   "id": "715523d9-050e-4c3a-9d8e-4a450a0eef16",
   "metadata": {},
   "outputs": [
    {
     "name": "stdout",
     "output_type": "stream",
     "text": [
      "Forshaw Avamarti : 456 ventes pour un chiffre de 2433.5€.\n",
      "Dirkse Vakil : 536 ventes pour un chiffre de 2848.4€.\n",
      "Baer Hermann : 475 ventes pour un chiffre de 2565.0€.\n",
      "Baida Shelli : 482 ventes pour un chiffre de 2556.5€.\n",
      "Ada Gezienus : 522 ventes pour un chiffre de 2798.3€.\n",
      "Gietz William : 491 ventes pour un chiffre de 2578.7€.\n",
      "Klinich Subfian : 488 ventes pour un chiffre de 2568.8€.\n",
      "Fripp Adam : 455 ventes pour un chiffre de 2429.8€.\n",
      "Ferge Demajae : 518 ventes pour un chiffre de 2761.6€.\n",
      "Calame Alim : 541 ventes pour un chiffre de 2886.9€.\n",
      "Ernst Bruce : 490 ventes pour un chiffre de 2597.8€.\n",
      "Rouw Burleen : 517 ventes pour un chiffre de 2758.6€.\n",
      "Cattell Parkash : 536 ventes pour un chiffre de 2839.3€.\n",
      "Madonia Hallah : 508 ventes pour un chiffre de 2666.5€.\n",
      "Neidenbach Davidlee : 509 ventes pour un chiffre de 2712.2€.\n",
      "Dimaio Brookens : 474 ventes pour un chiffre de 2513.6€.\n",
      "Menor Paesley : 530 ventes pour un chiffre de 2811.7€.\n",
      "De Haan Lex : 487 ventes pour un chiffre de 2598.6€.\n",
      "Raphaely Den : 508 ventes pour un chiffre de 2697.3€.\n",
      "Jokela Leroyal : 460 ventes pour un chiffre de 2436.6€.\n",
      "Slagle Almeter : 491 ventes pour un chiffre de 2625.1€.\n",
      "Vanhorne Joean : 517 ventes pour un chiffre de 2720.1€.\n",
      "Trimboli Areeza : 547 ventes pour un chiffre de 2875.6€.\n",
      "Mavris Susan : 529 ventes pour un chiffre de 2850.9€.\n",
      "Higgins Shelley : 510 ventes pour un chiffre de 2761.5€.\n",
      "Severn Teyonna : 490 ventes pour un chiffre de 2623.5€.\n",
      "Rambhajan Kaiyan : 459 ventes pour un chiffre de 2410.8€.\n",
      "Seanger Stephian : 549 ventes pour un chiffre de 2894.4€.\n",
      "Mourgos Kevin : 506 ventes pour un chiffre de 2623.8€.\n",
      "Lorentz Diana : 491 ventes pour un chiffre de 2581.0€.\n",
      "Sykora Mariaines : 481 ventes pour un chiffre de 2542.4€.\n",
      "Macedonio Trayanka : 487 ventes pour un chiffre de 2584.2€.\n",
      "Greenberg Nancy : 533 ventes pour un chiffre de 2796.2€.\n",
      "Braverman Freek : 488 ventes pour un chiffre de 2589.2€.\n",
      "Gollier Budimir : 466 ventes pour un chiffre de 2513.6€.\n",
      "Buenger Carrigan : 488 ventes pour un chiffre de 2577.2€.\n",
      "Vazzana Cherelle : 537 ventes pour un chiffre de 2869.8€.\n",
      "Wariner Volodimir : 492 ventes pour un chiffre de 2611.8€.\n",
      "Fay Pat : 530 ventes pour un chiffre de 2776.9€.\n",
      "Gee Ki : 484 ventes pour un chiffre de 2547.8€.\n",
      "Yoshi Mohinder : 485 ventes pour un chiffre de 2570.6€.\n",
      "Hunold Alexander : 513 ventes pour un chiffre de 2755.4€.\n",
      "King Steven : 501 ventes pour un chiffre de 2686.1€.\n",
      "Mikkilineni Irene : 504 ventes pour un chiffre de 2667.1€.\n",
      "Seo John : 500 ventes pour un chiffre de 2640.2€.\n",
      "Patel Joshua : 501 ventes pour un chiffre de 2630.7€.\n",
      "Olson TJ : 481 ventes pour un chiffre de 2563.0€.\n",
      "Hewell Dharmraj : 494 ventes pour un chiffre de 2600.7€.\n",
      "Landry James : 498 ventes pour un chiffre de 2666.6€.\n",
      "Hartstein Michael : 497 ventes pour un chiffre de 2620.6€.\n",
      "Yashpal Polite : 488 ventes pour un chiffre de 2631.6€.\n",
      "Whalen Jennifer : 501 ventes pour un chiffre de 2620.9€.\n",
      "Sciarra Ismael : 525 ventes pour un chiffre de 2765.6€.\n",
      "Marolf Alisandra : 503 ventes pour un chiffre de 2692.2€.\n",
      "Lemmo Bertan : 501 ventes pour un chiffre de 2635.6€.\n",
      "Weiss Matthew : 516 ventes pour un chiffre de 2754.3€.\n",
      "Sehr Sumeet : 515 ventes pour un chiffre de 2769.4€.\n",
      "Feller Rackl : 543 ventes pour un chiffre de 2944.0€.\n",
      "Tobias Sigal : 491 ventes pour un chiffre de 2576.5€.\n",
      "Hossfeld Mansura : 488 ventes pour un chiffre de 2558.1€.\n",
      "Gullette Itzy : 498 ventes pour un chiffre de 2645.3€.\n",
      "Ladwig Renske : 512 ventes pour un chiffre de 2769.8€.\n",
      "Braswell Amiri : 506 ventes pour un chiffre de 2698.7€.\n",
      "Austin David : 535 ventes pour un chiffre de 2831.8€.\n",
      "Laughinghouse Meropi : 475 ventes pour un chiffre de 2516.5€.\n",
      "Himuro Guy : 501 ventes pour un chiffre de 2665.7€.\n",
      "Avantika Amiyra : 512 ventes pour un chiffre de 2740.4€.\n",
      "Pfahlert Paradice : 461 ventes pour un chiffre de 2472.7€.\n",
      "Mallin Jason : 541 ventes pour un chiffre de 2899.8€.\n",
      "Benik Rowynn : 529 ventes pour un chiffre de 2816.4€.\n",
      "Nayer Julia : 508 ventes pour un chiffre de 2685.9€.\n",
      "Aportela Babafolasekemi : 510 ventes pour un chiffre de 2702.7€.\n",
      "Trentman Simmonds : 512 ventes pour un chiffre de 2716.0€.\n",
      "Popp Luis : 497 ventes pour un chiffre de 2669.2€.\n"
     ]
    }
   ],
   "source": [
    "BDD = sql.connect(\"BARS.db\")\n",
    "curseur = BDD.cursor()\n",
    "\n",
    "# pour chaque employé, on va avoir besoin de :\n",
    "# nom, prenom, matricule dans Employes\n",
    "# nombre d'entrées dans Ventes\n",
    "# prix dans Carte\n",
    "# => jointure sur les 3 tables\n",
    "\n",
    "# nombre total de ventes par employé = nombre de lignes dans Ventes contenant le matricule de l'employé\n",
    "\n",
    "curseur.execute(f\"SELECT DISTINCT nomEmploye, prenomEmploye, COUNT(matricule), SUM(prix) FROM Employes AS E, Ventes AS V, Carte AS C WHERE E.matricule = V.idEmploye AND V.idBoisson = C.idBoisson GROUP BY matricule\")\n",
    "for nom, prenom, vente, chiffre in curseur.fetchall():\n",
    "    print(nom + \" \" +  prenom + \" : \" + str(vente) + \" ventes pour un chiffre de \" + str(round(chiffre, 2)) + \"€.\")\n",
    "\n",
    "BDD.close()"
   ]
  },
  {
   "cell_type": "markdown",
   "id": "f4e64c3f-bf9c-4421-9a3e-2b2fe977a471",
   "metadata": {},
   "source": [
    "## Exercice 5 — Ventes par salarié avec droits utilisateurs"
   ]
  },
  {
   "cell_type": "code",
   "execution_count": 88,
   "id": "0c548411-842f-42af-909e-ec52d3465e78",
   "metadata": {},
   "outputs": [
    {
     "name": "stdin",
     "output_type": "stream",
     "text": [
      "Entrez votre ID Manager :  T80612\n"
     ]
    },
    {
     "name": "stdout",
     "output_type": "stream",
     "text": [
      "Authentification réussie. Information sur les ventes du bar \"Le Saphir\" :\n",
      "\n",
      "Baida Shelli : 482 ventes pour un chiffre de 2556.5€.\n",
      "Dimaio Brookens : 474 ventes pour un chiffre de 2513.6€.\n",
      "Higgins Shelley : 510 ventes pour un chiffre de 2761.5€.\n",
      "Gollier Budimir : 466 ventes pour un chiffre de 2513.6€.\n",
      "Fay Pat : 530 ventes pour un chiffre de 2776.9€.\n",
      "Hartstein Michael : 497 ventes pour un chiffre de 2620.6€.\n",
      "Whalen Jennifer : 501 ventes pour un chiffre de 2620.9€.\n",
      "Sehr Sumeet : 515 ventes pour un chiffre de 2769.4€.\n",
      "Himuro Guy : 501 ventes pour un chiffre de 2665.7€.\n",
      "Mallin Jason : 541 ventes pour un chiffre de 2899.8€.\n"
     ]
    }
   ],
   "source": [
    "BDD = sql.connect(\"BARS.db\")\n",
    "curseur = BDD.cursor()\n",
    "\n",
    "# Authentification du manager\n",
    "\n",
    "# on récupère les ID Manager\n",
    "infosManager = dict()\n",
    "curseur.execute(\"SELECT idManager, nomEtablissement FROM Etablissements\")\n",
    "for matricule, nom in curseur.fetchall():\n",
    "    infosManager[matricule] = nom\n",
    "    \n",
    "idOk = False\n",
    "idEmploye = input(\"Entrez votre ID Manager : \")\n",
    "if idEmploye not in infosManager.keys():\n",
    "    print(\"Vous n'avez pas accès aux informations sur les ventes.\")\n",
    "else:\n",
    "    # on récupère l'établissement dont l'utilisateur est le manager\n",
    "    etablissement = infosManager[idEmploye]\n",
    "    \n",
    "    print(f\"Authentification réussie. Information sur les ventes du bar \\\"{etablissement}\\\" :\\n\")\n",
    "    # Authentification réussie, on passe à la recherche\n",
    "    # pour tester : T80612\n",
    "    \n",
    "    curseur.execute(f\"SELECT DISTINCT nomEmploye, prenomEmploye, COUNT(matricule), SUM(prix) FROM Employes AS E, Ventes AS V, Carte AS C WHERE E.matricule = V.idEmploye AND V.idBoisson = C.idBoisson AND E.bar = ? GROUP BY matricule\", (etablissement,))\n",
    "    for nom, prenom, vente, chiffre in curseur.fetchall():\n",
    "        print(nom + \" \" +  prenom + \" : \" + str(vente) + \" ventes pour un chiffre de \" + str(round(chiffre, 2)) + \"€.\")\n",
    "\n",
    "BDD.close()"
   ]
  },
  {
   "cell_type": "markdown",
   "id": "025d6c7b-632a-4504-97a5-456290a72ff9",
   "metadata": {},
   "source": [
    "## Exercice 7"
   ]
  },
  {
   "cell_type": "code",
   "execution_count": 10,
   "id": "8519c3d2-3647-4aa8-9064-c633b73ce35b",
   "metadata": {},
   "outputs": [
    {
     "name": "stdin",
     "output_type": "stream",
     "text": [
      "Entrez votre ID Manager :  Q66872\n",
      "Entrez une date :  18 novembre 2022\n"
     ]
    },
    {
     "name": "stdout",
     "output_type": "stream",
     "text": [
      "Le bar Nu-Bahia a fait 103 ventes pour un chiffre de 577.4€.\n",
      "Résultat par employé·e : \n",
      "Burleen Rouw a généré un chiffre de 105.0€.\n",
      "Paesley Menor a généré un chiffre de 124.9€.\n",
      "Freek Braverman a généré un chiffre de 97.5€.\n",
      "Alexander Hunold a généré un chiffre de 81.5€.\n",
      "Renske Ladwig a généré un chiffre de 78.5€.\n",
      "Babafolasekemi Aportela a généré un chiffre de 90.0€.\n"
     ]
    }
   ],
   "source": [
    "# on reprend l'exercice 6\n",
    "########## EXERCICE 6 #########\n",
    "\n",
    "import sqlite3 as sql\n",
    "import csv\n",
    "\n",
    "BDD = sql.connect(\"BARS.db\")\n",
    "curseur = BDD.cursor()\n",
    "\n",
    "# Identification du Manager\n",
    "infosManager = dict()\n",
    "curseur.execute(\"SELECT idManager, nomEtablissement FROM Etablissements\")\n",
    "for matricule, nom in curseur.fetchall():\n",
    "    infosManager[matricule] = nom\n",
    "    \n",
    "# On demande à l'utilisateur d'entrer son id.\n",
    "idOk = False\n",
    "idEmploye = input(\"Entrez votre ID Manager : \")\n",
    "\n",
    "# Si son id ne correspond pas à un idManager, le programme s'arrête.\n",
    "if idEmploye not in infosManager.keys():\n",
    "    print(\"Vous n'avez pas accès aux informations sur les ventes.\")\n",
    "else:\n",
    "    # Sinon non récupère l'établissement dont l'utilisateur est le manager\n",
    "    etablissement = infosManager[idEmploye]\n",
    "        \n",
    "    # on demande la saisie de la date\n",
    "    date = input(\"Entrez une date : \")\n",
    "    # on convertir au format de la BDD : JJ/MM/A\n",
    "    (jour, mois, annee) = date.split()\n",
    "    # on convertir le mois en nombre\n",
    "    tableMois = {\n",
    "        \"janvier\": \"01\",\n",
    "        \"février\": \"02\", \n",
    "        \"mars\": \"03\",\n",
    "        \"avril\": \"04\",\n",
    "        \"mai\": \"05\",\n",
    "        \"juin\": \"06\",\n",
    "        \"juillet\": \"07\",\n",
    "        \"août\": \"08\",\n",
    "        \"septembre\": \"09\",\n",
    "        \"octobre\": \"10\",\n",
    "        \"novembre\": \"11\",\n",
    "        \"décembre\": \"12\"\n",
    "    }\n",
    "    date = \"/\".join([jour, tableMois[mois], annee])\n",
    "    \n",
    "    curseur.execute(\"SELECT COUNT(idVente), SUM(prix), bar FROM Ventes AS V, Carte AS C, Employes AS E WHERE E.matricule = V.idEmploye AND V.idBoisson = C.idBoisson AND E.bar = ? AND V.date = ?\", (etablissement, date))\n",
    "    resultventes = curseur.fetchall()\n",
    "    for (ventes, montant, bar) in resultventes:\n",
    "        print(f\"Le bar {bar} a fait {ventes} ventes pour un chiffre de {round(montant, 2)}€.\")\n",
    "    print(\"Résultat par employé·e : \")\n",
    "    \n",
    "    curseur.execute(\"SELECT prenomEmploye, nomEmploye, SUM(prix) FROM Ventes AS V, Carte AS C, Employes AS E WHERE V.idBoisson = C.idBoisson AND E.matricule = V.idEmploye AND E.bar = ? AND V.date = ? GROUP BY idEmploye\", (etablissement, date))\n",
    "    resultbenef = curseur.fetchall()\n",
    "    for (prenom, nom, montant) in resultbenef:\n",
    "        print(f\"{prenom} {nom} a généré un chiffre de {round(montant, 2)}€.\")\n",
    "\n",
    "BDD.close()"
   ]
  },
  {
   "cell_type": "code",
   "execution_count": null,
   "id": "882e02cd-1997-450a-8cfa-237333f0c95e",
   "metadata": {},
   "outputs": [],
   "source": []
  }
 ],
 "metadata": {
  "kernelspec": {
   "display_name": "Python 3 (ipykernel)",
   "language": "python",
   "name": "python3"
  },
  "language_info": {
   "codemirror_mode": {
    "name": "ipython",
    "version": 3
   },
   "file_extension": ".py",
   "mimetype": "text/x-python",
   "name": "python",
   "nbconvert_exporter": "python",
   "pygments_lexer": "ipython3",
   "version": "3.10.6"
  }
 },
 "nbformat": 4,
 "nbformat_minor": 5
}
