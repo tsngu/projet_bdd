{
 "cells": [
  {
   "cell_type": "markdown",
   "id": "6c35edb7-a999-4a77-8ea2-9c6f84a30864",
   "metadata": {},
   "source": [
    "# Projet BDD (Clément BUON, Tifanny NGUYEN)"
   ]
  },
  {
   "cell_type": "markdown",
   "id": "6a8bb3fd-5e1b-4ac4-ae9e-a5c6178caf65",
   "metadata": {},
   "source": [
    "## 1) Création de la BDD"
   ]
  },
  {
   "cell_type": "code",
   "execution_count": 11,
   "id": "2665ae4b-0c23-407f-ae0b-b87f0adbd19d",
   "metadata": {},
   "outputs": [],
   "source": [
    "import sqlite3 as sql\n",
    "import csv"
   ]
  },
  {
   "cell_type": "code",
   "execution_count": 10,
   "id": "04eeb172-2172-46da-a6b9-44e793614e95",
   "metadata": {},
   "outputs": [],
   "source": [
    "#!/usr/bin/env python\n",
    "# -*- coding:utf-8 -*\n",
    "\n",
    "########## EXERCICE 1 ##########\n",
    "## Création de la base de données\n",
    "\n",
    "import sqlite3 as sql\n",
    "import csv\n",
    "\n",
    "BDD = sql.connect(\"BARS.db\")\n",
    "curseur = BDD.cursor()\n",
    "\n",
    "# EMPLOYÉS\n",
    "curseur.execute(\"CREATE TABLE Employes (matricule TEXT PRIMARY KEY, nomEmploye TEXT NOT NULL, prenomEmploye TEXT NOT NULL, profession TEXT NOT NULL, bar TEXT NOT NULL);\")\n",
    "\n",
    "# ÉTABLISSEMENTS\n",
    "# ajout d'une clé primaire avec la propriété autoincrement\n",
    "curseur.execute(\"CREATE TABLE Etablissements (idEtablissement INTEGER PRIMARY KEY AUTOINCREMENT, nomEtablissement TEXT NOT NULL, adresse TEXT NOT NULL, numTelephone TEXT NOT NULL, idManager TEXT NOT NULL, FOREIGN KEY (idManager) REFERENCES Employes(matricule));\")\n",
    "\n",
    "# CARTE\n",
    "curseur.execute(\"CREATE TABLE Carte (idBoisson INTEGER PRIMARY KEY, nomBoisson TEXT NOT NULL, type TEXT NOT NULL, prix REAL NOT NULL, degre REAL, quantite REAL NOT NULL);\")\n",
    "\n",
    "# VENTES\n",
    "# ajout d'une clé primaire avec la propriété autoincrement\n",
    "curseur.execute(\"CREATE TABLE Ventes (idVente INTEGER PRIMARY KEY AUTOINCREMENT, idEmploye TEXT NOT NULL, idBoisson INTEGER NOT NULL, date TEXT NOT NULL, FOREIGN KEY (idEmploye) REFERENCES Employes(matricule), FOREIGN KEY (idBoisson) REFERENCES Carte(idBoisson));\")\n",
    "\n",
    "# Remplissage avec les données CSV\n",
    "# On écrit les informations dans une liste de dictionnaires\n",
    "# chaque dictionnaire : 'attribut' : valeur de l'attribut\n",
    "PATH = \"../data/\"\n",
    "with open(PATH+\"employes.csv\", \"rt\") as fichierEmployes:\n",
    "    CSVEmploye = csv.DictReader(fichierEmployes, delimiter=\"\\t\")\n",
    "    for ligne in CSVEmploye:\n",
    "        curseur.execute(\"INSERT INTO Employes (matricule, nomEmploye, prenomEmploye, profession, bar) VALUES (:Matricule, :Nom, :Prenom, :Profession, :Nom_Bar)\", ligne)\n",
    "\n",
    "with open(PATH+\"etablissements.csv\", \"rt\") as fichierEtablissement:\n",
    "    CSVEtablissement = csv.DictReader(fichierEtablissement, delimiter=\"\\t\")\n",
    "    for ligne in CSVEtablissement:\n",
    "        curseur.execute(\"INSERT INTO Etablissements (nomEtablissement, adresse, numTelephone, idManager) VALUES (:Name, :Adresse, :NumTel, :Manager_Id)\", ligne)\n",
    "\n",
    "with open(PATH+\"carte.csv\", \"rt\") as fichierCarte:\n",
    "    CSVCarte = csv.DictReader(fichierCarte, delimiter=\"\\t\")\n",
    "    for ligne in CSVCarte:\n",
    "        curseur.execute(\"INSERT INTO Carte (idBoisson, nomBoisson, type, prix, degre, quantite) VALUES (:Id_Boisson, :Nom, :Type, :Prix, :Degre, :Quantite)\", ligne)\n",
    "        \n",
    "with open(PATH+\"ventes.csv\", \"rt\") as fichierVente:\n",
    "    CSVVente = csv.DictReader(fichierVente, delimiter=\"\\t\")\n",
    "    for ligne in CSVVente:\n",
    "        curseur.execute(\"INSERT INTO Ventes (idEmploye, idBoisson, date) VALUES (:Employe_Id, :Boisson_Id, :Date)\", ligne)\n",
    "\n",
    "\n",
    "BDD.commit()\n",
    "BDD.close()"
   ]
  },
  {
   "cell_type": "markdown",
   "id": "c753a90f-586c-4c88-a055-cc58c45f1b82",
   "metadata": {},
   "source": [
    "## Affichage de la BDD :"
   ]
  },
  {
   "cell_type": "code",
   "execution_count": 13,
   "id": "1a96ed38-8b91-4bcb-a1fb-8f2c93988525",
   "metadata": {},
   "outputs": [
    {
     "name": "stdout",
     "output_type": "stream",
     "text": [
      "Le Saphir : id 1, adresse : Boulevard de Poyat, tel : 0820510551, idManager : T80612\n",
      "L'Envers Bodega : id 2, adresse : Impasse des Hauts de la Verchère, tel : 0058166035, idManager : R25976\n",
      "By Coss Bar : id 3, adresse : Rue Winston Churchill, tel : 0153213335, idManager : R81326\n",
      "Nu-Bahia : id 4, adresse : Route de Bévy, tel : 0696419033, idManager : Q66872\n",
      "Antirouille : id 5, adresse : Chemin de la Chavanne, tel : 0051347411, idManager : Q09012\n",
      "Comptoir de l'Arc : id 6, adresse : La Buissonnière, tel : 0557856998, idManager : O42298\n",
      "Comptoir Saint-Paul : id 7, adresse : Chemin du Bois de Lys, tel : 0153779529, idManager : A08113\n",
      "La Barbote : id 8, adresse : Rue du 7 Septembre 1639, tel : 0005872187, idManager : Q42796\n",
      "Chez Félix : id 9, adresse : Route de Rochefort, tel : 0337450880, idManager : R66525\n",
      "Le Sens Six : id 10, adresse : Route En Chemi-Nant, tel : 0475860670, idManager : W04397\n"
     ]
    }
   ],
   "source": [
    "BDD = sql.connect(\"BARS.db\")\n",
    "curseur = BDD.cursor()\n",
    "\n",
    "curseur.execute(\"SELECT * FROM Etablissements\")\n",
    "result = curseur.fetchall()\n",
    "for idNum, name, adress, phone, managerId in result:\n",
    "    print(f\"{name} : id {idNum}, adresse : {adress}, tel : {phone}, idManager : {managerId}\")\n",
    "#print(result)\n",
    "\n",
    "BDD.close()"
   ]
  },
  {
   "cell_type": "code",
   "execution_count": null,
   "id": "8769c13d-947f-4781-95ec-97015cb8d047",
   "metadata": {},
   "outputs": [],
   "source": []
  }
 ],
 "metadata": {
  "kernelspec": {
   "display_name": "Python 3 (ipykernel)",
   "language": "python",
   "name": "python3"
  },
  "language_info": {
   "codemirror_mode": {
    "name": "ipython",
    "version": 3
   },
   "file_extension": ".py",
   "mimetype": "text/x-python",
   "name": "python",
   "nbconvert_exporter": "python",
   "pygments_lexer": "ipython3",
   "version": "3.10.6"
  }
 },
 "nbformat": 4,
 "nbformat_minor": 5
}
